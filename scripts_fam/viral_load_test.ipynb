{
 "cells": [
  {
   "cell_type": "code",
   "execution_count": 1,
   "metadata": {
    "collapsed": true
   },
   "outputs": [],
   "source": [
    "import pandas as pd\n",
    "import sys\n",
    "import os\n",
    "import glob\n",
    "from collections import defaultdict\n",
    "from matplotlib import pyplot as plt\n",
    "import seaborn as sns\n",
    "import pprint\n",
    "# from IPython.display import display\n",
    "import sklearn\n",
    "import numpy as np\n",
    "import seaborn as sns\n",
    "from Bio import SeqIO\n",
    "\n",
    "from process_alignment_table import *\n",
    "set_pandas_display_options()\n",
    "\n",
    "%matplotlib inline"
   ]
  },
  {
   "cell_type": "code",
   "execution_count": 2,
   "metadata": {
    "collapsed": true
   },
   "outputs": [],
   "source": [
    "def exact_mc_perm_test(xs, ys, nmc):\n",
    "    n, k = len(xs), 0\n",
    "    diff = np.abs(np.mean(xs) - np.mean(ys))\n",
    "    zs = np.concatenate([xs, ys])\n",
    "    for j in range(nmc):\n",
    "        np.random.shuffle(zs)\n",
    "        k += diff <= np.abs(np.mean(zs[:n]) - np.mean(zs[n:]))\n",
    "    return k / nmc"
   ]
  },
  {
   "cell_type": "markdown",
   "metadata": {},
   "source": [
    "## Virus"
   ]
  },
  {
   "cell_type": "code",
   "execution_count": 3,
   "metadata": {
    "collapsed": true
   },
   "outputs": [],
   "source": [
    "df1 = pd.read_csv('/scratch/groups/dpwall/personal/chloehe/unmapped_reads/batch_tables/batch_00514/batch_00514.viral.csv', index_col=0)\n",
    "df2 = pd.read_csv('/scratch/groups/dpwall/personal/chloehe/unmapped_reads/batch_tables/batch_01013/batch_01013.viral.csv', index_col=0)"
   ]
  },
  {
   "cell_type": "code",
   "execution_count": 5,
   "metadata": {},
   "outputs": [],
   "source": [
    "from sklearn.preprocessing import normalize\n",
    "df_copy = df1.drop('pop_average', axis=1)\n",
    "columns = []\n",
    "for col, source, fam in zip(df_copy.columns.values, df_copy.loc['seq_source'].values, df_copy.loc['family'].values):\n",
    "    columns.append(f'{col} - {source} - {fam}')\n",
    "df_copy = df_copy.drop(['seq_source', 'family', 'relationship'], axis=0)\n",
    "    \n",
    "cols = df_copy.columns\n",
    "df_copy[cols] = df_copy[cols].apply(pd.to_numeric)\n",
    "\n",
    "contig_df = pd.read_csv('/scratch/groups/dpwall/personal/chloehe/unmapped_reads/ref_genome/contig_df.csv', index_col=0)\n",
    "index = []\n",
    "for idx in df_copy.index.values:\n",
    "    index.append(contig_df.loc[idx].short_des)\n",
    "\n",
    "# threshold = 10\n",
    "# df_copy = df_copy[df_copy.ge(threshold).any(axis=1)]\n",
    "df_scaled = normalize(df_copy)\n",
    "\n",
    "df_scaled = pd.DataFrame(df_scaled, columns=columns, index=index)\n",
    "\n",
    "from sklearn.metrics import pairwise_distances\n",
    "distance = pairwise_distances(df_scaled.T)\n",
    "\n",
    "family1 = defaultdict(list)\n",
    "for idx, col in enumerate(columns):\n",
    "    family1[col.split(' - ')[2]].append(idx)\n",
    "    \n",
    "fam1_samples = set()\n",
    "for i in range(64):\n",
    "    fam1_samples.add(i)\n",
    "\n",
    "distance_in_family = []\n",
    "distance_others = []\n",
    "\n",
    "for idx, sample in enumerate(columns):\n",
    "    fam = sample.split(' - ')[2]\n",
    "    rel = family1[fam].copy()\n",
    "    others = list(fam1_samples - set(rel))\n",
    "    rel.remove(idx)\n",
    "#     dist_in_fam = 0\n",
    "#     dist_others = 0\n",
    "#     for r in rel:\n",
    "#         dist_in_fam += distance[idx, r]\n",
    "#     for o in others:\n",
    "#         dist_others += distance[idx, o]\n",
    "#     distance_in_family.append(dist_in_fam/len(rel))\n",
    "#     distance_others.append(dist_others/len(others))\n",
    "    for r in rel:\n",
    "        distance_in_family.append(distance[idx, r])\n",
    "    for o in others:\n",
    "        distance_others.append(distance[idx, o])\n",
    "    \n",
    "# assert(len(distance_in_family) == len(fam1_samples))\n",
    "# assert(len(distance_others) == len(fam1_samples))"
   ]
  },
  {
   "cell_type": "code",
   "execution_count": 6,
   "metadata": {
    "collapsed": true
   },
   "outputs": [],
   "source": [
    "from sklearn.preprocessing import normalize\n",
    "df_copy = df2.drop('pop_average', axis=1)\n",
    "columns = []\n",
    "for col, source, fam in zip(df_copy.columns.values, df_copy.loc['seq_source'].values, df_copy.loc['family'].values):\n",
    "    columns.append(f'{col} - {source} - {fam}')\n",
    "df_copy = df_copy.drop(['seq_source', 'family', 'relationship'], axis=0)\n",
    "    \n",
    "cols = df_copy.columns\n",
    "df_copy[cols] = df_copy[cols].apply(pd.to_numeric)\n",
    "\n",
    "contig_df = pd.read_csv('/scratch/groups/dpwall/personal/chloehe/unmapped_reads/ref_genome/contig_df.csv', index_col=0)\n",
    "index = []\n",
    "for idx in df_copy.index.values:\n",
    "    index.append(contig_df.loc[idx].short_des)\n",
    "\n",
    "# threshold = 10\n",
    "# df_copy = df_copy[df_copy.ge(threshold).any(axis=1)]\n",
    "df_scaled = normalize(df_copy)\n",
    "\n",
    "df_scaled = pd.DataFrame(df_scaled, columns=columns, index=index)\n",
    "\n",
    "from sklearn.metrics import pairwise_distances\n",
    "distance = pairwise_distances(df_scaled.T)\n",
    "\n",
    "family2 = defaultdict(list)\n",
    "for idx, col in enumerate(columns):\n",
    "    family2[col.split(' - ')[2]].append(idx)\n",
    "    \n",
    "fam2_samples = set()\n",
    "for i in range(95):\n",
    "    fam2_samples.add(i)\n",
    "\n",
    "for idx, sample in enumerate(columns):\n",
    "    fam = sample.split(' - ')[2]\n",
    "    rel = family2[fam].copy()\n",
    "    others = list(fam2_samples - set(rel))\n",
    "    rel.remove(idx)\n",
    "#     dist_in_fam = 0\n",
    "#     dist_others = 0\n",
    "#     for r in rel:\n",
    "#         dist_in_fam += distance[idx, r]\n",
    "#     for o in others:\n",
    "#         dist_others += distance[idx, o]\n",
    "#     distance_in_family.append(dist_in_fam/len(rel))\n",
    "#     distance_others.append(dist_others/len(others))\n",
    "    for r in rel:\n",
    "        distance_in_family.append(distance[idx, r])\n",
    "    for o in others:\n",
    "        distance_others.append(distance[idx, o])\n",
    "    \n",
    "# assert(len(distance_in_family)-len(fam1_samples) == len(fam2_samples))\n",
    "# assert(len(distance_others)-len(fam1_samples) == len(fam2_samples))"
   ]
  },
  {
   "cell_type": "code",
   "execution_count": 65,
   "metadata": {},
   "outputs": [
    {
     "data": {
      "text/plain": [
       "<matplotlib.legend.Legend at 0x7ff6509f8080>"
      ]
     },
     "execution_count": 65,
     "metadata": {},
     "output_type": "execute_result"
    },
    {
     "data": {
      "image/png": "[encoded data removed]",
      "text/plain": [
       "<Figure size 576x360 with 1 Axes>"
      ]
     },
     "metadata": {},
     "output_type": "display_data"
    }
   ],
   "source": [
    "# fig, ax = plt.subplots(figsize=(8,5))\n",
    "# plt.hist(distance_in_family, label='within family', alpha=0.5, bins=10)\n",
    "# plt.hist(distance_others, label='not related', alpha=0.5, bins=10)\n",
    "# plt.legend(loc='best')"
   ]
  },
  {
   "cell_type": "code",
   "execution_count": 20,
   "metadata": {},
   "outputs": [
    {
     "data": {
      "text/plain": [
       "<matplotlib.legend.Legend at 0x7f9dd3dd2160>"
      ]
     },
     "execution_count": 20,
     "metadata": {},
     "output_type": "execute_result"
    },
    {
     "data": {
      "image/png": "[encoded data removed]",
      "text/plain": [
       "<Figure size 576x360 with 1 Axes>"
      ]
     },
     "metadata": {},
     "output_type": "display_data"
    }
   ],
   "source": [
    "fig, ax = plt.subplots(figsize=(8,5))\n",
    "bins = np.linspace(0, 3, 20)\n",
    "plt.hist(distance_in_family, label='within family', alpha=0.5, bins=bins, edgecolor='k')\n",
    "plt.hist(distance_others, label='not related', alpha=0.5, bins=bins, edgecolor='k')\n",
    "plt.legend(loc='best')"
   ]
  },
  {
   "cell_type": "code",
   "execution_count": 6,
   "metadata": {},
   "outputs": [
    {
     "data": {
      "text/plain": [
       "Ttest_indResult(statistic=-0.4947215368356248, pvalue=0.6211404739023434)"
      ]
     },
     "execution_count": 6,
     "metadata": {},
     "output_type": "execute_result"
    }
   ],
   "source": [
    "from scipy.stats import ttest_ind\n",
    "\n",
    "ttest_ind(distance_in_family, distance_others)"
   ]
  },
  {
   "cell_type": "code",
   "execution_count": 8,
   "metadata": {},
   "outputs": [
    {
     "data": {
      "text/plain": [
       "0.6243266666666667"
      ]
     },
     "execution_count": 8,
     "metadata": {},
     "output_type": "execute_result"
    }
   ],
   "source": [
    "exact_mc_perm_test(distance_in_family, distance_others, 300000)"
   ]
  },
  {
   "cell_type": "code",
   "execution_count": 7,
   "metadata": {
    "scrolled": true
   },
   "outputs": [
    {
     "data": {
      "text/plain": [
       "<matplotlib.legend.Legend at 0x7f706b565d30>"
      ]
     },
     "execution_count": 7,
     "metadata": {},
     "output_type": "execute_result"
    },
    {
     "data": {
      "image/png": "[encoded data removed]",
      "text/plain": [
       "<Figure size 576x360 with 1 Axes>"
      ]
     },
     "metadata": {},
     "output_type": "display_data"
    }
   ],
   "source": [
    "fig, ax = plt.subplots(figsize=(8,5))\n",
    "bins = np.linspace(0, 3, 20)\n",
    "plt.hist(distance_in_family, label='within family', alpha=0.5, bins=bins, edgecolor='k')\n",
    "plt.hist(distance_others, label='not related', alpha=0.5, bins=bins, edgecolor='k')\n",
    "plt.legend(loc='best')"
   ]
  },
  {
   "cell_type": "code",
   "execution_count": 8,
   "metadata": {},
   "outputs": [
    {
     "data": {
      "text/plain": [
       "0.6986166666666667"
      ]
     },
     "execution_count": 8,
     "metadata": {},
     "output_type": "execute_result"
    }
   ],
   "source": [
    "exact_mc_perm_test(distance_in_family, distance_others, 300000)"
   ]
  },
  {
   "cell_type": "markdown",
   "metadata": {},
   "source": [
    "## Bacteria/Eukryotes/Archaea"
   ]
  },
  {
   "cell_type": "code",
   "execution_count": 9,
   "metadata": {
    "collapsed": true
   },
   "outputs": [],
   "source": [
    "df1 = pd.read_csv('/scratch/groups/dpwall/personal/chloehe/unmapped_reads/batch_tables/batch_00514/batch_00514.bacterial.csv', index_col=0)\n",
    "df2 = pd.read_csv('/scratch/groups/dpwall/personal/chloehe/unmapped_reads/batch_tables/batch_01013/batch_01013.bacterial.csv', index_col=0)"
   ]
  },
  {
   "cell_type": "code",
   "execution_count": 11,
   "metadata": {
    "collapsed": true
   },
   "outputs": [],
   "source": [
    "from sklearn.preprocessing import normalize\n",
    "df_copy = df1.drop('pop_average', axis=1)\n",
    "columns = []\n",
    "for col, source, fam in zip(df_copy.columns.values, df_copy.loc['seq_source'].values, df_copy.loc['family'].values):\n",
    "    columns.append(f'{col} - {source} - {fam}')\n",
    "df_copy = df_copy.drop(['seq_source', 'family', 'relationship'], axis=0)\n",
    "    \n",
    "cols = df_copy.columns\n",
    "df_copy[cols] = df_copy[cols].apply(pd.to_numeric)\n",
    "\n",
    "contig_df = pd.read_csv('/scratch/groups/dpwall/personal/chloehe/unmapped_reads/ref_genome/contig_df.csv', index_col=0)\n",
    "index = []\n",
    "for idx in df_copy.index.values:\n",
    "    index.append(contig_df.loc[idx].short_des)\n",
    "\n",
    "# threshold = 10\n",
    "# df_copy = df_copy[df_copy.ge(threshold).any(axis=1)]\n",
    "df_scaled = normalize(df_copy)\n",
    "\n",
    "df_scaled = pd.DataFrame(df_scaled, columns=columns, index=index)\n",
    "\n",
    "from sklearn.metrics import pairwise_distances\n",
    "distance = pairwise_distances(df_scaled.T)\n",
    "\n",
    "family1 = defaultdict(list)\n",
    "for idx, col in enumerate(columns):\n",
    "    family1[col.split(' - ')[2]].append(idx)\n",
    "    \n",
    "fam1_samples = set()\n",
    "for i in range(64):\n",
    "    fam1_samples.add(i)\n",
    "\n",
    "distance_in_family = []\n",
    "distance_others = []\n",
    "\n",
    "for idx, sample in enumerate(columns):\n",
    "    fam = sample.split(' - ')[2]\n",
    "    rel = family1[fam].copy()\n",
    "    others = list(fam1_samples - set(rel))\n",
    "    rel.remove(idx)\n",
    "#     dist_in_fam = 0\n",
    "#     dist_others = 0\n",
    "#     for r in rel:\n",
    "#         dist_in_fam += distance[idx, r]\n",
    "#     for o in others:\n",
    "#         dist_others += distance[idx, o]\n",
    "#     distance_in_family.append(dist_in_fam/len(rel))\n",
    "#     distance_others.append(dist_others/len(others))\n",
    "    for r in rel:\n",
    "        distance_in_family.append(distance[idx, r])\n",
    "    for o in others:\n",
    "        distance_others.append(distance[idx, o])\n",
    "    \n",
    "# assert(len(distance_in_family) == len(fam1_samples))\n",
    "# assert(len(distance_others) == len(fam1_samples))"
   ]
  },
  {
   "cell_type": "code",
   "execution_count": 12,
   "metadata": {
    "collapsed": true
   },
   "outputs": [],
   "source": [
    "from sklearn.preprocessing import normalize\n",
    "df_copy = df2.drop('pop_average', axis=1)\n",
    "columns = []\n",
    "for col, source, fam in zip(df_copy.columns.values, df_copy.loc['seq_source'].values, df_copy.loc['family'].values):\n",
    "    columns.append(f'{col} - {source} - {fam}')\n",
    "df_copy = df_copy.drop(['seq_source', 'family', 'relationship'], axis=0)\n",
    "    \n",
    "cols = df_copy.columns\n",
    "df_copy[cols] = df_copy[cols].apply(pd.to_numeric)\n",
    "\n",
    "contig_df = pd.read_csv('/scratch/groups/dpwall/personal/chloehe/unmapped_reads/ref_genome/contig_df.csv', index_col=0)\n",
    "index = []\n",
    "for idx in df_copy.index.values:\n",
    "    index.append(contig_df.loc[idx].short_des)\n",
    "\n",
    "# threshold = 10\n",
    "# df_copy = df_copy[df_copy.ge(threshold).any(axis=1)]\n",
    "df_scaled = normalize(df_copy)\n",
    "\n",
    "df_scaled = pd.DataFrame(df_scaled, columns=columns, index=index)\n",
    "\n",
    "from sklearn.metrics import pairwise_distances\n",
    "distance = pairwise_distances(df_scaled.T)\n",
    "\n",
    "family2 = defaultdict(list)\n",
    "for idx, col in enumerate(columns):\n",
    "    family2[col.split(' - ')[2]].append(idx)\n",
    "    \n",
    "fam2_samples = set()\n",
    "for i in range(95):\n",
    "    fam2_samples.add(i)\n",
    "\n",
    "for idx, sample in enumerate(columns):\n",
    "    fam = sample.split(' - ')[2]\n",
    "    rel = family2[fam].copy()\n",
    "    others = list(fam2_samples - set(rel))\n",
    "    rel.remove(idx)\n",
    "#     dist_in_fam = 0\n",
    "#     dist_others = 0\n",
    "#     for r in rel:\n",
    "#         dist_in_fam += distance[idx, r]\n",
    "#     for o in others:\n",
    "#         dist_others += distance[idx, o]\n",
    "#     distance_in_family.append(dist_in_fam/len(rel))\n",
    "#     distance_others.append(dist_others/len(others))\n",
    "    for r in rel:\n",
    "        distance_in_family.append(distance[idx, r])\n",
    "    for o in others:\n",
    "        distance_others.append(distance[idx, o])\n",
    "    \n",
    "# assert(len(distance_in_family)-len(fam1_samples) == len(fam2_samples))\n",
    "# assert(len(distance_others)-len(fam1_samples) == len(fam2_samples))"
   ]
  },
  {
   "cell_type": "code",
   "execution_count": 57,
   "metadata": {},
   "outputs": [
    {
     "data": {
      "text/plain": [
       "<matplotlib.legend.Legend at 0x7ff656b55898>"
      ]
     },
     "execution_count": 57,
     "metadata": {},
     "output_type": "execute_result"
    },
    {
     "data": {
      "image/png": "[encoded data removed]",
      "text/plain": [
       "<Figure size 576x360 with 1 Axes>"
      ]
     },
     "metadata": {},
     "output_type": "display_data"
    }
   ],
   "source": [
    "# fig, ax = plt.subplots(figsize=(8,5))\n",
    "# plt.hist(distance_in_family, label='within family', alpha=0.5, bins=10)\n",
    "# plt.hist(distance_others, label='not related', alpha=0.5, bins=10)\n",
    "# plt.legend(loc='best')"
   ]
  },
  {
   "cell_type": "code",
   "execution_count": 58,
   "metadata": {},
   "outputs": [
    {
     "data": {
      "text/plain": [
       "Ttest_indResult(statistic=-0.891691428105135, pvalue=0.37425802259439633)"
      ]
     },
     "execution_count": 58,
     "metadata": {},
     "output_type": "execute_result"
    }
   ],
   "source": [
    "# from scipy.stats import ttest_ind\n",
    "\n",
    "# ttest_ind(distance_in_family, distance_others)"
   ]
  },
  {
   "cell_type": "code",
   "execution_count": 13,
   "metadata": {},
   "outputs": [
    {
     "data": {
      "text/plain": [
       "<matplotlib.legend.Legend at 0x7f9dcb52aa20>"
      ]
     },
     "execution_count": 13,
     "metadata": {},
     "output_type": "execute_result"
    },
    {
     "data": {
      "image/png": "[encoded data removed]",
      "text/plain": [
       "<Figure size 576x360 with 1 Axes>"
      ]
     },
     "metadata": {},
     "output_type": "display_data"
    }
   ],
   "source": [
    "fig, ax = plt.subplots(figsize=(8,5))\n",
    "bins = np.linspace(0, 30, 20)\n",
    "plt.hist(distance_in_family, label='within family', alpha=0.5, bins=bins, edgecolor='k')\n",
    "plt.hist(distance_others, label='not related', alpha=0.5, bins=bins, edgecolor='k')\n",
    "plt.legend(loc='best')"
   ]
  },
  {
   "cell_type": "code",
   "execution_count": 11,
   "metadata": {},
   "outputs": [
    {
     "data": {
      "text/plain": [
       "Ttest_indResult(statistic=-0.7880041615833008, pvalue=0.4312849723362432)"
      ]
     },
     "execution_count": 11,
     "metadata": {},
     "output_type": "execute_result"
    }
   ],
   "source": [
    "from scipy.stats import ttest_ind\n",
    "\n",
    "ttest_ind(distance_in_family, distance_others)"
   ]
  },
  {
   "cell_type": "code",
   "execution_count": 12,
   "metadata": {},
   "outputs": [
    {
     "data": {
      "text/plain": [
       "0.43445666666666666"
      ]
     },
     "execution_count": 12,
     "metadata": {},
     "output_type": "execute_result"
    }
   ],
   "source": [
    "exact_mc_perm_test(distance_in_family, distance_others, 300000)"
   ]
  },
  {
   "cell_type": "code",
   "execution_count": 13,
   "metadata": {},
   "outputs": [
    {
     "data": {
      "text/plain": [
       "<matplotlib.legend.Legend at 0x7f706d47ba90>"
      ]
     },
     "execution_count": 13,
     "metadata": {},
     "output_type": "execute_result"
    },
    {
     "data": {
      "image/png": "[encoded data removed]",
      "text/plain": [
       "<Figure size 576x360 with 1 Axes>"
      ]
     },
     "metadata": {},
     "output_type": "display_data"
    }
   ],
   "source": [
    "fig, ax = plt.subplots(figsize=(8,5))\n",
    "bins = np.linspace(0, 30, 20)\n",
    "plt.hist(distance_in_family, label='within family', alpha=0.5, bins=bins, edgecolor='k')\n",
    "plt.hist(distance_others, label='not related', alpha=0.5, bins=bins, edgecolor='k')\n",
    "plt.legend(loc='best')"
   ]
  },
  {
   "cell_type": "code",
   "execution_count": 14,
   "metadata": {},
   "outputs": [
    {
     "data": {
      "text/plain": [
       "0.45355666666666666"
      ]
     },
     "execution_count": 14,
     "metadata": {},
     "output_type": "execute_result"
    }
   ],
   "source": [
    "exact_mc_perm_test(distance_in_family, distance_others, 300000)"
   ]
  },
  {
   "cell_type": "code",
   "execution_count": null,
   "metadata": {
    "collapsed": true
   },
   "outputs": [],
   "source": []
  }
 ],
 "metadata": {
  "kernelspec": {
   "display_name": "Python 3",
   "language": "python",
   "name": "python3"
  },
  "language_info": {
   "codemirror_mode": {
    "name": "ipython",
    "version": 3
   },
   "file_extension": ".py",
   "mimetype": "text/x-python",
   "name": "python",
   "nbconvert_exporter": "python",
   "pygments_lexer": "ipython3",
   "version": "3.6.1"
  }
 },
 "nbformat": 4,
 "nbformat_minor": 2
}
